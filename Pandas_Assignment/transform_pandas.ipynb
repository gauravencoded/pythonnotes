{
 "cells": [
  {
   "cell_type": "code",
   "execution_count": 9,
   "metadata": {},
   "outputs": [
    {
     "name": "stdout",
     "output_type": "stream",
     "text": [
      "          A     B   C     D\n",
      "Row_1  12.0   7.0  20  14.0\n",
      "Row_2   4.0   2.0  16   3.0\n",
      "Row_3   5.0  54.0  11   NaN\n",
      "Row_4   NaN   3.0   3   2.0\n",
      "Row_5   1.0   NaN   8   6.0\n",
      "********************************\n",
      "              A                        B                       C  \\\n",
      "           sqrt            exp      sqrt           exp      sqrt   \n",
      "Row_1  3.464102  162754.791419  2.645751  1.096633e+03  4.472136   \n",
      "Row_2  2.000000      54.598150  1.414214  7.389056e+00  4.000000   \n",
      "Row_3  2.236068     148.413159  7.348469  2.830753e+23  3.316625   \n",
      "Row_4       NaN            NaN  1.732051  2.008554e+01  1.732051   \n",
      "Row_5  1.000000       2.718282       NaN           NaN  2.828427   \n",
      "\n",
      "                            D                \n",
      "                exp      sqrt           exp  \n",
      "Row_1  4.851652e+08  3.741657  1.202604e+06  \n",
      "Row_2  8.886111e+06  1.732051  2.008554e+01  \n",
      "Row_3  5.987414e+04       NaN           NaN  \n",
      "Row_4  2.008554e+01  1.414214  7.389056e+00  \n",
      "Row_5  2.980958e+03  2.449490  4.034288e+02  \n"
     ]
    }
   ],
   "source": [
    "import pandas as  pd\n",
    "df = pd.DataFrame({\"A\":[12, 4, 5, None, 1],  \n",
    "                   \"B\":[7, 2, 54, 3, None],  \n",
    "                   \"C\":[20, 16, 11, 3, 8],  \n",
    "                   \"D\":[14, 3, None, 2, 6]})  \n",
    "  \n",
    "# Create the index \n",
    "index_ = ['Row_1', 'Row_2', 'Row_3', 'Row_4', 'Row_5'] \n",
    "  \n",
    "# Set the index \n",
    "df.index = index_ \n",
    "print(df)\n",
    "print (\"********************************\")\n",
    "# result = df.transform(func = lambda x : x + 10) \n",
    "#result = df.transform(func = ['sqrt', 'exp'])  #sqr root and result of euler’s number raised to each element \n",
    "print(result)"
   ]
  },
  {
   "cell_type": "code",
   "execution_count": null,
   "metadata": {},
   "outputs": [],
   "source": []
  },
  {
   "cell_type": "code",
   "execution_count": null,
   "metadata": {},
   "outputs": [],
   "source": []
  }
 ],
 "metadata": {
  "kernelspec": {
   "display_name": "Python 3",
   "language": "python",
   "name": "python3"
  },
  "language_info": {
   "codemirror_mode": {
    "name": "ipython",
    "version": 3
   },
   "file_extension": ".py",
   "mimetype": "text/x-python",
   "name": "python",
   "nbconvert_exporter": "python",
   "pygments_lexer": "ipython3",
   "version": "3.7.3"
  }
 },
 "nbformat": 4,
 "nbformat_minor": 2
}
